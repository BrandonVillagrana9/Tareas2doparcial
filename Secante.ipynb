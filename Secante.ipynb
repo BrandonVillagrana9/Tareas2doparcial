{
  "nbformat": 4,
  "nbformat_minor": 0,
  "metadata": {
    "colab": {
      "name": "Secante.ipynb",
      "provenance": [],
      "collapsed_sections": []
    },
    "kernelspec": {
      "name": "python3",
      "display_name": "Python 3"
    }
  },
  "cells": [
    {
      "cell_type": "code",
      "metadata": {
        "id": "sSXl260jl_PK"
      },
      "source": [
        "import matplotlib.pyplot as plt\n",
        "import math"
      ],
      "execution_count": 90,
      "outputs": []
    },
    {
      "cell_type": "code",
      "metadata": {
        "colab": {
          "base_uri": "https://localhost:8080/",
          "height": 1000
        },
        "id": "vAFa2whNmZWS",
        "outputId": "37f5bf18-e4f9-470d-c361-c2732e115205"
      },
      "source": [
        "def MetodoSecante():\n",
        "  xi0 = (0)\n",
        "  print(\"Ingrese el valor de x1\")\n",
        "  xi1 = int(input())\n",
        "  print(\"Ingrese el criterio de paro\")\n",
        "  criterio_paro = float(input())\n",
        "  fg1(xi0, xi1,criterio_paro)\n",
        "def g1(x):\n",
        "  return math.e**(-x) - x\n",
        "\n",
        "def fg1(X1, X2, citerio_paro =0.0001):\n",
        " \n",
        "  x_vec=[]\n",
        "  x_vec.append(X1)\n",
        "  x_vec.append(X2)\n",
        "  contador = (1)\n",
        "  error_vec=[]\n",
        "  error_vec.append(1)\n",
        "  error_vec.append(1)\n",
        " \n",
        "  while(error_vec[contador] > citerio_paro):\n",
        "    xi=x_vec[contador]\n",
        "    xi1=x_vec[contador-1]\n",
        "    fxi=g1(xi)\n",
        "    fxi1=g1(xi1)\n",
        "    x_temp=(xi-((fxi*(xi1-xi))/(fxi1-fxi)))\n",
        "    x_vec.append(x_temp)\n",
        "    e_temp=abs(x_vec[contador+1]-x_vec[contador])\n",
        "    error_vec.append(e_temp)\n",
        "    contador+=1\n",
        "    \n",
        "\n",
        "    if (x_vec[contador]>=9999):\n",
        "       converge=False\n",
        "    print(\"No converge\")\n",
        "  else:\n",
        "    if (x_vec[contador]<=9999):\n",
        "      print(\"Si converge\")\n",
        "\n",
        "    for xVec in x_vec:\n",
        "        print(\"iteracion: \")\n",
        "        print(\" \", xVec)\n",
        "\n",
        "\n",
        "    for error in error_vec:\n",
        "        print(\"error: \")\n",
        "        print(\" \", error)\n",
        "\n",
        "\n",
        "    plt.plot(x_vec, label = \"Iteraciones\")\n",
        "    plt.legend()\n",
        "    plt.show()\n",
        "\n",
        "    plt.plot(error_vec, label = \"error\", color ='red')\n",
        "    plt.legend()\n",
        "    plt.show()\n",
        "MetodoSecante()\n"
      ],
      "execution_count": 91,
      "outputs": [
        {
          "output_type": "stream",
          "text": [
            "Ingrese el valor de x1\n",
            "1\n",
            "Ingrese el criterio de paro\n",
            "0.0001\n",
            "No converge\n",
            "No converge\n",
            "No converge\n",
            "No converge\n",
            "Si converge\n",
            "iteracion: \n",
            "  0\n",
            "iteracion: \n",
            "  1\n",
            "iteracion: \n",
            "  0.6126998367802821\n",
            "iteracion: \n",
            "  0.5638383891610742\n",
            "iteracion: \n",
            "  0.5671703584197446\n",
            "iteracion: \n",
            "  0.5671433066049633\n",
            "error: \n",
            "  1\n",
            "error: \n",
            "  1\n",
            "error: \n",
            "  0.38730016321971794\n",
            "error: \n",
            "  0.048861447619207854\n",
            "error: \n",
            "  0.0033319692586704086\n",
            "error: \n",
            "  2.7051814781353656e-05\n"
          ],
          "name": "stdout"
        },
        {
          "output_type": "display_data",
          "data": {
            "image/png": "[encoded data removed]",
            "text/plain": [
              "<Figure size 432x288 with 1 Axes>"
            ]
          },
          "metadata": {
            "tags": [],
            "needs_background": "light"
          }
        },
        {
          "output_type": "display_data",
          "data": {
            "image/png": "[encoded data removed]",
            "text/plain": [
              "<Figure size 432x288 with 1 Axes>"
            ]
          },
          "metadata": {
            "tags": [],
            "needs_background": "light"
          }
        }
      ]
    }
  ]
}